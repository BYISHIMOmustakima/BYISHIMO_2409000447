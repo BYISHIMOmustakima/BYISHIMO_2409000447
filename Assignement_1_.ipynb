{
  "nbformat": 4,
  "nbformat_minor": 0,
  "metadata": {
    "colab": {
      "provenance": [],
      "authorship_tag": "ABX9TyMeg3BHEvx1MGLbaNBBuAh0",
      "include_colab_link": true
    },
    "kernelspec": {
      "name": "python3",
      "display_name": "Python 3"
    },
    "language_info": {
      "name": "python"
    }
  },
  "cells": [
    {
      "cell_type": "markdown",
      "metadata": {
        "id": "view-in-github",
        "colab_type": "text"
      },
      "source": [
        "<a href=\"https://colab.research.google.com/github/BYISHIMOmustakima/BYISHIMO_2409000447/blob/main/Assignement_1_.ipynb\" target=\"_parent\"><img src=\"https://colab.research.google.com/assets/colab-badge.svg\" alt=\"Open In Colab\"/></a>"
      ]
    },
    {
      "cell_type": "markdown",
      "source": [],
      "metadata": {
        "id": "NGLSliZScj-a"
      }
    },
    {
      "cell_type": "code",
      "execution_count": null,
      "metadata": {
        "colab": {
          "base_uri": "https://localhost:8080/"
        },
        "id": "fol2OqE9R3-T",
        "outputId": "791ea6e8-121f-40aa-f0f3-75383ee79a7a"
      },
      "outputs": [
        {
          "output_type": "execute_result",
          "data": {
            "text/plain": [
              "(b'gAAAAABnrfD29qaltwFeDaQBg7XxDaQ1kvkzS_5tcNmC4G1a-UN2oYnAEdLPE9bm0MNxYTdoFUtu_E1LtmPhVZo7P_1YTXAvU4jXHmiwiVX2aDST_A7k0H4=',\n",
              " b'Tp2-GRgz-34oDUkZ7j81p2r7l4-BjoOoPuvon_UQsq8=')"
            ]
          },
          "metadata": {},
          "execution_count": 3
        }
      ],
      "source": [
        "from cryptography.fernet import Fernet\n",
        "\n",
        "#Generate a key for encryption\n",
        "key = Fernet.generate_key()\n",
        "cipher_suite = Fernet (key)\n",
        "\n",
        "#Encrypt the first name \"BYISHIMO Mustakima\"\n",
        "first_name = \"BYISHIMO Mustakima\".encode()\n",
        "encrypted_name = cipher_suite.encrypt(first_name) # Changed BYSHIMO_Mustakima to first_name\n",
        "encrypted_name, key"
      ]
    }
  ]
}