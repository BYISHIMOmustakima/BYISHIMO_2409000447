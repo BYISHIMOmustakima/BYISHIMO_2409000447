{
  "nbformat": 4,
  "nbformat_minor": 0,
  "metadata": {
    "colab": {
      "provenance": [],
      "authorship_tag": "ABX9TyOxCvAjqE+4aGv9Lr0giRzk",
      "include_colab_link": true
    },
    "kernelspec": {
      "name": "python3",
      "display_name": "Python 3"
    },
    "language_info": {
      "name": "python"
    }
  },
  "cells": [
    {
      "cell_type": "markdown",
      "metadata": {
        "id": "view-in-github",
        "colab_type": "text"
      },
      "source": [
        "<a href=\"https://colab.research.google.com/github/BYISHIMOmustakima/BYISHIMO_2409000447/blob/main/Assignement_1_.ipynb\" target=\"_parent\"><img src=\"https://colab.research.google.com/assets/colab-badge.svg\" alt=\"Open In Colab\"/></a>"
      ]
    },
    {
      "cell_type": "markdown",
      "source": [],
      "metadata": {
        "id": "NGLSliZScj-a"
      }
    },
    {
      "cell_type": "code",
      "execution_count": 4,
      "metadata": {
        "colab": {
          "base_uri": "https://localhost:8080/"
        },
        "id": "fol2OqE9R3-T",
        "outputId": "71f941a4-eae9-4e0a-fb25-97189a7568af"
      },
      "outputs": [
        {
          "output_type": "stream",
          "name": "stdout",
          "text": [
            "BYISHIMO Mustakima\n"
          ]
        }
      ],
      "source": [
        "from cryptography.fernet import Fernet\n",
        "\n",
        "#Generate a key for encryption\n",
        "key = Fernet.generate_key()\n",
        "cipher_suite = Fernet(key)\n",
        "\n",
        "#Encrypt the first name \"BYISHIMO Mustakima\"\n",
        "first_name = \"BYISHIMO Mustakima\".encode()\n",
        "encrypted_name = cipher_suite.encrypt(first_name)\n",
        "encrypted_name, key\n",
        "\n",
        "#Decrypt the encrypted name\n",
        "#Changed BYISHIMO_Mustakima to encrypted_name to decrypt the actual encrypted data\n",
        "decrypted_name = cipher_suite.decrypt(encrypted_name)\n",
        "decrypted_name = decrypted_name.decode() # Decode the bytes to string\n",
        "#Assign the decrypted name back to first_name\n",
        "first_name = decrypted_name\n",
        "#Print the original name using first_name\n",
        "print(first_name) #Print the original name(BYISHIMO Mustakima)\n",
        "\n"
      ]
    },
    {
      "cell_type": "code",
      "source": [],
      "metadata": {
        "id": "rAUXaIgudViu"
      },
      "execution_count": 4,
      "outputs": []
    }
  ]
}